{
 "cells": [
  {
   "cell_type": "code",
   "execution_count": 7,
   "id": "supposed-section",
   "metadata": {},
   "outputs": [],
   "source": [
    "import tensorflow as tf\n",
    "from tensorflow.keras import layers\n",
    "model = tf.keras.Sequential()\n",
    "model.add(layers.Dense(32, activation='relu'))\n",
    "model.add(layers.Dense(32, activation='relu'))\n",
    "model.add(layers.Dense(10, activation='softmax'))"
   ]
  },
  {
   "cell_type": "code",
   "execution_count": 8,
   "id": "excessive-third",
   "metadata": {},
   "outputs": [
    {
     "data": {
      "text/plain": [
       "<tensorflow.python.keras.layers.core.Dense at 0x2159cd23cc8>"
      ]
     },
     "execution_count": 8,
     "metadata": {},
     "output_type": "execute_result"
    }
   ],
   "source": [
    "layers.Dense(32, activation='sigmoid')\n",
    "layers.Dense(32, activation=tf.sigmoid)\n",
    "layers.Dense(32, kernel_initializer='orthogonal')\n",
    "layers.Dense(32, kernel_initializer=tf.keras.initializers.glorot_normal)\n",
    "layers.Dense(32, kernel_regularizer=tf.keras.regularizers.l2(0.01))\n",
    "layers.Dense(32, kernel_regularizer=tf.keras.regularizers.l1(0.01))"
   ]
  },
  {
   "cell_type": "code",
   "execution_count": 9,
   "id": "direct-horizontal",
   "metadata": {},
   "outputs": [],
   "source": [
    "model = tf.keras.Sequential()\n",
    "model.add(layers.Dense(32, activation='relu'))\n",
    "model.add(layers.Dense(32, activation='relu'))\n",
    "model.add(layers.Dense(10, activation='softmax'))\n",
    "model.compile(optimizer=tf.keras.optimizers.Adam(0.001),\n",
    "             loss=tf.keras.losses.categorical_crossentropy,\n",
    "             metrics=[tf.keras.metrics.categorical_accuracy])"
   ]
  },
  {
   "cell_type": "code",
   "execution_count": 10,
   "id": "operating-template",
   "metadata": {},
   "outputs": [
    {
     "name": "stdout",
     "output_type": "stream",
     "text": [
      "Epoch 1/10\n",
      "10/10 [==============================] - 0s 20ms/step - loss: 11.8313 - categorical_accuracy: 0.0950 - val_loss: 11.9468 - val_categorical_accuracy: 0.1150\n",
      "Epoch 2/10\n",
      "10/10 [==============================] - 0s 3ms/step - loss: 12.2787 - categorical_accuracy: 0.0920 - val_loss: 12.6372 - val_categorical_accuracy: 0.1150\n",
      "Epoch 3/10\n",
      "10/10 [==============================] - 0s 3ms/step - loss: 13.4763 - categorical_accuracy: 0.0920 - val_loss: 14.3738 - val_categorical_accuracy: 0.1150\n",
      "Epoch 4/10\n",
      "10/10 [==============================] - 0s 4ms/step - loss: 16.0555 - categorical_accuracy: 0.0920 - val_loss: 17.3849 - val_categorical_accuracy: 0.1150\n",
      "Epoch 5/10\n",
      "10/10 [==============================] - 0s 3ms/step - loss: 19.0261 - categorical_accuracy: 0.0920 - val_loss: 19.7979 - val_categorical_accuracy: 0.1150\n",
      "Epoch 6/10\n",
      "10/10 [==============================] - 0s 3ms/step - loss: 20.9441 - categorical_accuracy: 0.0920 - val_loss: 20.9439 - val_categorical_accuracy: 0.1150\n",
      "Epoch 7/10\n",
      "10/10 [==============================] - 0s 3ms/step - loss: 23.0069 - categorical_accuracy: 0.0950 - val_loss: 24.8815 - val_categorical_accuracy: 0.1000\n",
      "Epoch 8/10\n",
      "10/10 [==============================] - 0s 3ms/step - loss: 28.0109 - categorical_accuracy: 0.1090 - val_loss: 29.7682 - val_categorical_accuracy: 0.1000\n",
      "Epoch 9/10\n",
      "10/10 [==============================] - 0s 3ms/step - loss: 33.2664 - categorical_accuracy: 0.1130 - val_loss: 35.6384 - val_categorical_accuracy: 0.1100\n",
      "Epoch 10/10\n",
      "10/10 [==============================] - 0s 3ms/step - loss: 40.2063 - categorical_accuracy: 0.1120 - val_loss: 43.0245 - val_categorical_accuracy: 0.1200\n"
     ]
    },
    {
     "data": {
      "text/plain": [
       "<tensorflow.python.keras.callbacks.History at 0x2159d186188>"
      ]
     },
     "execution_count": 10,
     "metadata": {},
     "output_type": "execute_result"
    }
   ],
   "source": [
    "import numpy as np\n",
    "\n",
    "train_x = np.random.random((1000, 72))\n",
    "train_y = np.random.random((1000, 10))\n",
    "\n",
    "val_x = np.random.random((200, 72))\n",
    "val_y = np.random.random((200, 10))\n",
    "\n",
    "model.fit(train_x, train_y, epochs=10, batch_size=100,\n",
    "          validation_data=(val_x, val_y))"
   ]
  },
  {
   "cell_type": "code",
   "execution_count": 11,
   "id": "adjustable-chicago",
   "metadata": {},
   "outputs": [
    {
     "name": "stdout",
     "output_type": "stream",
     "text": [
      "Epoch 1/10\n",
      "WARNING:tensorflow:Layer dense_9 is casting an input tensor from dtype float64 to the layer's dtype of float32, which is new behavior in TensorFlow 2.  The layer has dtype float32 because its dtype defaults to floatx.\n",
      "\n",
      "If you intended to run this layer in float32, you can safely ignore this warning. If in doubt, this warning is likely only an issue if you are porting a TensorFlow 1.X model to TensorFlow 2.\n",
      "\n",
      "To change all layers to have dtype float64 by default, call `tf.keras.backend.set_floatx('float64')`. To change just this layer, pass dtype='float64' to the layer constructor. If you are the author of this layer, you can disable autocasting by passing autocast=False to the base Layer constructor.\n",
      "\n",
      "30/30 [==============================] - 0s 6ms/step - loss: 56.6079 - categorical_accuracy: 0.1135 - val_loss: 68.4604 - val_categorical_accuracy: 0.1354\n",
      "Epoch 2/10\n",
      "30/30 [==============================] - 0s 2ms/step - loss: 91.0413 - categorical_accuracy: 0.1132 - val_loss: 109.1964 - val_categorical_accuracy: 0.1146\n",
      "Epoch 3/10\n",
      "30/30 [==============================] - 0s 2ms/step - loss: 140.7685 - categorical_accuracy: 0.1100 - val_loss: 162.4324 - val_categorical_accuracy: 0.1042\n",
      "Epoch 4/10\n",
      "30/30 [==============================] - 0s 2ms/step - loss: 202.6544 - categorical_accuracy: 0.1186 - val_loss: 224.3364 - val_categorical_accuracy: 0.0938\n",
      "Epoch 5/10\n",
      "30/30 [==============================] - 0s 2ms/step - loss: 272.8717 - categorical_accuracy: 0.1079 - val_loss: 295.0893 - val_categorical_accuracy: 0.1146\n",
      "Epoch 6/10\n",
      "30/30 [==============================] - 0s 2ms/step - loss: 348.8683 - categorical_accuracy: 0.0962 - val_loss: 368.0727 - val_categorical_accuracy: 0.1250\n",
      "Epoch 7/10\n",
      "30/30 [==============================] - 0s 2ms/step - loss: 428.2892 - categorical_accuracy: 0.1015 - val_loss: 445.4972 - val_categorical_accuracy: 0.1250\n",
      "Epoch 8/10\n",
      "30/30 [==============================] - 0s 2ms/step - loss: 508.8700 - categorical_accuracy: 0.0951 - val_loss: 518.3309 - val_categorical_accuracy: 0.1042\n",
      "Epoch 9/10\n",
      "30/30 [==============================] - 0s 2ms/step - loss: 581.7079 - categorical_accuracy: 0.0791 - val_loss: 578.8269 - val_categorical_accuracy: 0.0625\n",
      "Epoch 10/10\n",
      "30/30 [==============================] - 0s 2ms/step - loss: 636.6212 - categorical_accuracy: 0.0855 - val_loss: 628.1082 - val_categorical_accuracy: 0.0938\n"
     ]
    },
    {
     "data": {
      "text/plain": [
       "<tensorflow.python.keras.callbacks.History at 0x2159e38fb88>"
      ]
     },
     "execution_count": 11,
     "metadata": {},
     "output_type": "execute_result"
    }
   ],
   "source": [
    "dataset = tf.data.Dataset.from_tensor_slices((train_x, train_y))\n",
    "dataset = dataset.batch(32)\n",
    "dataset = dataset.repeat()\n",
    "val_dataset = tf.data.Dataset.from_tensor_slices((val_x, val_y))\n",
    "val_dataset = val_dataset.batch(32)\n",
    "val_dataset = val_dataset.repeat()\n",
    "\n",
    "model.fit(dataset, epochs=10, steps_per_epoch=30,\n",
    "          validation_data=val_dataset, validation_steps=3)"
   ]
  },
  {
   "cell_type": "code",
   "execution_count": 12,
   "id": "different-holocaust",
   "metadata": {},
   "outputs": [
    {
     "name": "stdout",
     "output_type": "stream",
     "text": [
      "32/32 [==============================] - 0s 2ms/step - loss: 652.5284 - categorical_accuracy: 0.1020\n",
      "30/30 [==============================] - 0s 2ms/step - loss: 654.4271 - categorical_accuracy: 0.1000\n",
      "[[0.         0.01090581 0.02755141 ... 0.         0.20169899 0.18266524]\n",
      " [0.         0.01292888 0.03528189 ... 0.         0.2561573  0.13684359]\n",
      " [0.         0.0081198  0.02209348 ... 0.         0.20178376 0.25858992]\n",
      " ...\n",
      " [0.         0.01803927 0.02756038 ... 0.         0.27780688 0.09405864]\n",
      " [0.         0.00733325 0.01299656 ... 0.         0.31242737 0.12935184]\n",
      " [0.         0.01344841 0.02841472 ... 0.         0.29724705 0.12635495]]\n"
     ]
    }
   ],
   "source": [
    "test_x = np.random.random((1000, 72))\n",
    "test_y = np.random.random((1000, 10))\n",
    "model.evaluate(test_x, test_y, batch_size=32)\n",
    "test_data = tf.data.Dataset.from_tensor_slices((test_x, test_y))\n",
    "test_data = test_data.batch(32).repeat()\n",
    "model.evaluate(test_data, steps=30)\n",
    "# predict\n",
    "result = model.predict(test_x, batch_size=32)\n",
    "print(result)"
   ]
  },
  {
   "cell_type": "code",
   "execution_count": null,
   "id": "executed-castle",
   "metadata": {},
   "outputs": [],
   "source": []
  }
 ],
 "metadata": {
  "kernelspec": {
   "display_name": "Python 3",
   "language": "python",
   "name": "python3"
  },
  "language_info": {
   "codemirror_mode": {
    "name": "ipython",
    "version": 3
   },
   "file_extension": ".py",
   "mimetype": "text/x-python",
   "name": "python",
   "nbconvert_exporter": "python",
   "pygments_lexer": "ipython3",
   "version": "3.7.6"
  }
 },
 "nbformat": 4,
 "nbformat_minor": 5
}
