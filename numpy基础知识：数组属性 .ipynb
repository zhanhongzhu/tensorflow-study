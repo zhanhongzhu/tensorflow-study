{
 "cells": [
  {
   "cell_type": "code",
   "execution_count": 1,
   "id": "alone-bermuda",
   "metadata": {},
   "outputs": [],
   "source": [
    "import numpy as np"
   ]
  },
  {
   "cell_type": "code",
   "execution_count": 3,
   "id": "aging-stability",
   "metadata": {},
   "outputs": [
    {
     "data": {
      "text/plain": [
       "'\\nndarray.ndim \\t秩，即轴的数量或维度的数量\\nndarray.shape \\t数组的维度，对于矩阵，n 行 m 列\\nndarray.size \\t数组元素的总个数，相当于 .shape 中 n*m 的值\\nndarray.dtype \\tndarray 对象的元素类型\\nndarray.itemsize \\tndarray 对象中每个元素的大小，以字节为单位\\nndarray.flags \\tndarray 对象的内存信息\\nndarray.real \\tndarray元素的实部\\nndarray.imag \\tndarray 元素的虚部\\nndarray.data \\t包含实际数组元素的缓冲区，由于一般通过数组的索引获取元素，所以通常不需要使用这个属性。\\n'"
      ]
     },
     "execution_count": 3,
     "metadata": {},
     "output_type": "execute_result"
    }
   ],
   "source": [
    "\"\"\"\n",
    "ndarray.ndim \t秩，即轴的数量或维度的数量\n",
    "ndarray.shape \t数组的维度，对于矩阵，n 行 m 列\n",
    "ndarray.size \t数组元素的总个数，相当于 .shape 中 n*m 的值\n",
    "ndarray.dtype \tndarray 对象的元素类型\n",
    "ndarray.itemsize \tndarray 对象中每个元素的大小，以字节为单位\n",
    "ndarray.flags \tndarray 对象的内存信息\n",
    "ndarray.real \tndarray元素的实部\n",
    "ndarray.imag \tndarray 元素的虚部\n",
    "ndarray.data \t包含实际数组元素的缓冲区，由于一般通过数组的索引获取元素，所以通常不需要使用这个属性。\n",
    "\"\"\""
   ]
  },
  {
   "cell_type": "code",
   "execution_count": 18,
   "id": "tight-administrator",
   "metadata": {},
   "outputs": [
    {
     "name": "stdout",
     "output_type": "stream",
     "text": [
      "[ 0  1  2  3  4  5  6  7  8  9 10 11 12 13 14 15 16 17 18 19 20 21 22 23]\n",
      "1\n",
      "(24,)\n",
      "24\n",
      "int32\n",
      "4\n",
      "  C_CONTIGUOUS : True\n",
      "  F_CONTIGUOUS : True\n",
      "  OWNDATA : True\n",
      "  WRITEABLE : True\n",
      "  ALIGNED : True\n",
      "  WRITEBACKIFCOPY : False\n",
      "  UPDATEIFCOPY : False\n",
      "\n",
      "[ 0  1  2  3  4  5  6  7  8  9 10 11 12 13 14 15 16 17 18 19 20 21 22 23]\n",
      "[0 0 0 0 0 0 0 0 0 0 0 0 0 0 0 0 0 0 0 0 0 0 0 0]\n",
      "<memory at 0x000001357F1AA648>\n"
     ]
    }
   ],
   "source": [
    "## 数组的秩\n",
    "a = np.arange(24)\n",
    "print(a)\n",
    "print(a.ndim)\n",
    "print(a.shape)\n",
    "print(a.size)\n",
    "print(a.dtype)\n",
    "print(a.itemsize)\n",
    "print(a.flags)\n",
    "print(a.real)\n",
    "print(a.imag)\n",
    "print(a.data)"
   ]
  },
  {
   "cell_type": "code",
   "execution_count": 19,
   "id": "ancient-madison",
   "metadata": {},
   "outputs": [
    {
     "name": "stdout",
     "output_type": "stream",
     "text": [
      "<built-in method reshape of numpy.ndarray object at 0x000001357F1CB300>\n"
     ]
    }
   ],
   "source": [
    "## ndarray.reshape 通常返回的是非拷贝副本，即改变返回后数组的元素，原数组对应元素的值也会改变。\n",
    "print(a.reshape)"
   ]
  },
  {
   "cell_type": "code",
   "execution_count": null,
   "id": "electric-sterling",
   "metadata": {},
   "outputs": [],
   "source": []
  }
 ],
 "metadata": {
  "kernelspec": {
   "display_name": "Python 3",
   "language": "python",
   "name": "python3"
  },
  "language_info": {
   "codemirror_mode": {
    "name": "ipython",
    "version": 3
   },
   "file_extension": ".py",
   "mimetype": "text/x-python",
   "name": "python",
   "nbconvert_exporter": "python",
   "pygments_lexer": "ipython3",
   "version": "3.7.6"
  },
  "toc": {
   "base_numbering": 1,
   "nav_menu": {},
   "number_sections": true,
   "sideBar": true,
   "skip_h1_title": false,
   "title_cell": "Table of Contents",
   "title_sidebar": "Contents",
   "toc_cell": false,
   "toc_position": {},
   "toc_section_display": true,
   "toc_window_display": false
  }
 },
 "nbformat": 4,
 "nbformat_minor": 5
}
