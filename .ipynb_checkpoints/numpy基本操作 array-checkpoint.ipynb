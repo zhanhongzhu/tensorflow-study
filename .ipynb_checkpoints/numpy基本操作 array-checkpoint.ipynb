{
 "cells": [
  {
   "cell_type": "code",
   "execution_count": 1,
   "id": "terminal-nightmare",
   "metadata": {},
   "outputs": [],
   "source": [
    "import numpy as np"
   ]
  },
  {
   "cell_type": "code",
   "execution_count": 12,
   "id": "fifth-attack",
   "metadata": {},
   "outputs": [
    {
     "name": "stdout",
     "output_type": "stream",
     "text": [
      "1.18.5\n"
     ]
    }
   ],
   "source": [
    "print(np.__version__) ## 查看版本号"
   ]
  },
  {
   "cell_type": "code",
   "execution_count": 7,
   "id": "diagnostic-hammer",
   "metadata": {},
   "outputs": [
    {
     "data": {
      "text/plain": [
       "'\\nndarray 对象是用于存放同类型元素的多维数组。\\nnp.array(object, dtype = None, copy = True, order = None, subok = False, ndmin = 0)\\n\\nndarray 中的每个元素在内存中都有相同存储大小的区域。\\nndarray 内部由以下内容组成：\\n\\nobject:一个指向数据（内存或内存映射文件中的一块数据）的指针。\\n\\ndtype:数据类型或 dtype，描述在数组中的固定大小值的格子。\\n\\nshape:一个表示数组形状（shape）的元组，表示各维度大小的元组。\\n\\nstride:一个跨度元组（stride），其中的整数指的是为了前进到当前维度下一个元素需要\"跨过\"的字节数。\\n\\n'"
      ]
     },
     "execution_count": 7,
     "metadata": {},
     "output_type": "execute_result"
    }
   ],
   "source": [
    "\"\"\"\n",
    "ndarray 对象是用于存放同类型元素的多维数组。\n",
    "np.array(object, dtype = None, copy = True, order = None, subok = False, ndmin = 0)\n",
    "\n",
    "ndarray 中的每个元素在内存中都有相同存储大小的区域。\n",
    "ndarray 内部由以下内容组成：\n",
    "\n",
    "object:一个指向数据（内存或内存映射文件中的一块数据）的指针。\n",
    "\n",
    "dtype:数据类型或 dtype，描述在数组中的固定大小值的格子。\n",
    "\n",
    "shape:一个表示数组形状（shape）的元组，表示各维度大小的元组。\n",
    "\n",
    "stride:一个跨度元组（stride），其中的整数指的是为了前进到当前维度下一个元素需要\"跨过\"的字节数。\n",
    "\"\"\""
   ]
  },
  {
   "cell_type": "code",
   "execution_count": 8,
   "id": "infinite-vietnam",
   "metadata": {},
   "outputs": [
    {
     "name": "stdout",
     "output_type": "stream",
     "text": [
      "[1 2 4 6]\n"
     ]
    }
   ],
   "source": [
    "## 实例1\n",
    "a = np.array([1,2,4,6])\n",
    "print(a)"
   ]
  },
  {
   "cell_type": "code",
   "execution_count": 9,
   "id": "premium-midwest",
   "metadata": {},
   "outputs": [
    {
     "name": "stdout",
     "output_type": "stream",
     "text": [
      "[[1 2 3]\n",
      " [2 3 4]]\n"
     ]
    }
   ],
   "source": [
    "# 二维数组\n",
    "b = np.array([[1,2,3],[2,3,4]])\n",
    "print(b)"
   ]
  },
  {
   "cell_type": "code",
   "execution_count": 10,
   "id": "fifth-lindsay",
   "metadata": {},
   "outputs": [
    {
     "name": "stdout",
     "output_type": "stream",
     "text": [
      "[1.+0.j 2.+0.j 3.+0.j]\n"
     ]
    }
   ],
   "source": [
    "## dtype 参数 \n",
    "c = np.array([1,2,3],dtype=complex)\n",
    "print(c)"
   ]
  },
  {
   "cell_type": "code",
   "execution_count": 11,
   "id": "horizontal-gospel",
   "metadata": {},
   "outputs": [
    {
     "name": "stdout",
     "output_type": "stream",
     "text": [
      "[[[1 2 3 4]]]\n"
     ]
    }
   ],
   "source": [
    "## 最小维度\n",
    "d = np.array([1,2,3,4],ndmin=3)\n",
    "print(d)"
   ]
  },
  {
   "cell_type": "code",
   "execution_count": null,
   "id": "retained-shape",
   "metadata": {},
   "outputs": [],
   "source": []
  }
 ],
 "metadata": {
  "kernelspec": {
   "display_name": "Python 3",
   "language": "python",
   "name": "python3"
  },
  "language_info": {
   "codemirror_mode": {
    "name": "ipython",
    "version": 3
   },
   "file_extension": ".py",
   "mimetype": "text/x-python",
   "name": "python",
   "nbconvert_exporter": "python",
   "pygments_lexer": "ipython3",
   "version": "3.7.6"
  },
  "toc": {
   "base_numbering": 1,
   "nav_menu": {},
   "number_sections": true,
   "sideBar": true,
   "skip_h1_title": false,
   "title_cell": "Table of Contents",
   "title_sidebar": "Contents",
   "toc_cell": false,
   "toc_position": {},
   "toc_section_display": true,
   "toc_window_display": false
  }
 },
 "nbformat": 4,
 "nbformat_minor": 5
}
